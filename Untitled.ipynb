{
 "cells": [
  {
   "cell_type": "code",
   "execution_count": 63,
   "metadata": {},
   "outputs": [],
   "source": [
    "import re\n",
    "name=\"https://www.w3schools.com/python/showpython.asp?filename=demo_regex_set3\"\n",
    "features=[]"
   ]
  },
  {
   "cell_type": "code",
   "execution_count": null,
   "metadata": {},
   "outputs": [],
   "source": [
    "#ip address or not\n"
   ]
  },
  {
   "cell_type": "code",
   "execution_count": 17,
   "metadata": {},
   "outputs": [],
   "source": [
    "#url length\n",
    "url_length=len(name)\n",
    "if(url_length<54):\n",
    "    features.append(1)\n",
    "elif(url_length>75):\n",
    "    features.append(-1)\n",
    "else:\n",
    "    features.append(0)\n",
    "    \n"
   ]
  },
  {
   "cell_type": "code",
   "execution_count": 24,
   "metadata": {},
   "outputs": [],
   "source": [
    "#@ present or not\n",
    "x=re.search(\"@\",name)\n",
    "if(x):\n",
    "    return -1\n",
    "else:\n",
    "    return 1\n"
   ]
  },
  {
   "cell_type": "code",
   "execution_count": 30,
   "metadata": {},
   "outputs": [
    {
     "name": "stdout",
     "output_type": "stream",
     "text": [
      "True\n"
     ]
    }
   ],
   "source": [
    "#https present\n",
    "if(name.startswith('https')==True):\n",
    "    return 1\n",
    "else :\n",
    "    return -1\n",
    "    "
   ]
  },
  {
   "cell_type": "code",
   "execution_count": 45,
   "metadata": {},
   "outputs": [
    {
     "name": "stdout",
     "output_type": "stream",
     "text": [
      "['https:', '', 'www.w3schools.com', 'python', 'showpython.asp?filename=demo_regex_set3']\n",
      "1\n"
     ]
    }
   ],
   "source": [
    "#'//' present more than twice\n",
    "c=0\n",
    "x=name.split(\"/\")\n",
    "for j in x:\n",
    "    if (j==''):\n",
    "        c=c+1\n",
    "if(c>1):\n",
    "    return -1\n",
    "else:\n",
    "    return 1"
   ]
  },
  {
   "cell_type": "code",
   "execution_count": 66,
   "metadata": {},
   "outputs": [
    {
     "name": "stdout",
     "output_type": "stream",
     "text": [
      "[]\n"
     ]
    }
   ],
   "source": [
    "# has '-'in domain name\n",
    "x=re.findall(r\"https?://[^\\-]+-[^\\-]+/\", name)\n",
    "print(x)"
   ]
  },
  {
   "cell_type": "code",
   "execution_count": null,
   "metadata": {},
   "outputs": [],
   "source": []
  }
 ],
 "metadata": {
  "kernelspec": {
   "display_name": "Python 3",
   "language": "python",
   "name": "python3"
  },
  "language_info": {
   "codemirror_mode": {
    "name": "ipython",
    "version": 3
   },
   "file_extension": ".py",
   "mimetype": "text/x-python",
   "name": "python",
   "nbconvert_exporter": "python",
   "pygments_lexer": "ipython3",
   "version": "3.7.1"
  }
 },
 "nbformat": 4,
 "nbformat_minor": 2
}
