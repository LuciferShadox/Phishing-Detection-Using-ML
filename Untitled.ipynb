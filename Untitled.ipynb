{
 "cells": [
  {
   "cell_type": "code",
   "execution_count": 77,
   "metadata": {},
   "outputs": [],
   "source": [
    "\n",
    "import re\n",
    "def preprocess(name):\n",
    "    features=[]\n",
    "    #check features of phishing url or not\n",
    "    #ip address or not\n",
    "    if(len(re.findall(\"^[0-9]+\\.[0-9]+\\.[0-9]\",name))>=1):\n",
    "        features.append(-1)\n",
    "    else:\n",
    "        features.append(1)\n",
    "    #url length\n",
    "    url_length=len(name)\n",
    "    if(url_length<54):\n",
    "        features.append(1)\n",
    "    elif(url_length>75):\n",
    "        features.append(-1)\n",
    "    else:\n",
    "        features.append(0)\n",
    "    # @ present or not\n",
    "    b=re.search(\"@\",name)\n",
    "    if(b):\n",
    "        features.append(-1)\n",
    "    else:\n",
    "        features.append(1)\n",
    "    # check no. of subdomain\n",
    "    if(len(re.findall('\\.',name))==1):\n",
    "        features.append(1)\n",
    "    elif(len(re.findall('\\.',name))==2):\n",
    "        features.append(0)\n",
    "    else:\n",
    "        features.append(-1)\n",
    "    # '//' present more than twice\n",
    "    c=0\n",
    "    b=name.split(\"/\")\n",
    "    for j in b:\n",
    "        if (j==''):\n",
    "            c=c+1\n",
    "    if(c>1):\n",
    "        features.append(-1)\n",
    "    else:\n",
    "        features.append(1)\n",
    "    # https present\n",
    "    if(name.startswith('https')==True):\n",
    "        features.append(1)\n",
    "    else :\n",
    "        features.append(-1) \n",
    "    #Domain_registeration_length\n",
    "    import whois\n",
    "    \n",
    "    dns=1\n",
    "    try:\n",
    "        whois_response = whois.whois(name)\n",
    "        expiration_date = whois_response.expiration_date\n",
    "        registration_length = 0\n",
    "        try:\n",
    "            expiration_date = min(expiration_date)\n",
    "            today = time.strftime('%Y-%m-%d')\n",
    "            today = datetime.strptime(today, '%Y-%m-%d')\n",
    "            registration_length = abs((expiration_date - today).days)\n",
    "            if (registration_length / 365 <= 1):\n",
    "                features.append(-1)\n",
    "            else:\n",
    "                features.append(1)\n",
    "        except:\n",
    "            features.append(-1)    \n",
    "    except:\n",
    "        dns=-1\n",
    "        \n",
    "    # age_of_domain\n",
    "    try:\n",
    "        response = requests.get(url)\n",
    "        \n",
    "    except:\n",
    "        response = \"\"\n",
    "        soup = -999\n",
    "    if (response == \"\"):\n",
    "        features.append(-1)\n",
    "    else:\n",
    "        try:\n",
    "            registration_date = re.findall(r'Registration Date:</div><div class=\"df-value\">([^<]+)</div>', whois_response.text)[0]\n",
    "            if (diff_month(date.today(), date_parse(registration_date)) >= 6):\n",
    "                features.append(-1)\n",
    "            else:\n",
    "                features.append(1)\n",
    "        except:\n",
    "                features.append(1)\n",
    "\n",
    "    # DNSRecord\n",
    "    \n",
    "    if (dns == -1):\n",
    "        features.append(-1)\n",
    "    else:\n",
    "        if (registration_length / 365 <= 1):\n",
    "            features.append(-1)\n",
    "        else:\n",
    "            features.append(1)\n",
    "    return features"
   ]
  },
  {
   "cell_type": "code",
   "execution_count": 78,
   "metadata": {
    "scrolled": true
   },
   "outputs": [
    {
     "name": "stderr",
     "output_type": "stream",
     "text": [
      "c:\\users\\rahul ramakrishnan\\appdata\\local\\programs\\python\\python37\\lib\\site-packages\\sklearn\\ensemble\\forest.py:246: FutureWarning: The default value of n_estimators will change from 10 in version 0.20 to 100 in 0.22.\n",
      "  \"10 in version 0.20 to 100 in 0.22.\", FutureWarning)\n",
      "c:\\users\\rahul ramakrishnan\\appdata\\local\\programs\\python\\python37\\lib\\site-packages\\sklearn\\svm\\base.py:196: FutureWarning: The default value of gamma will change from 'auto' to 'scale' in version 0.22 to account better for unscaled features. Set gamma explicitly to 'auto' or 'scale' to avoid this warning.\n",
      "  \"avoid this warning.\", FutureWarning)\n"
     ]
    },
    {
     "name": "stdout",
     "output_type": "stream",
     "text": [
      "naive bayes\n",
      "0.6799276672694394\n",
      "random forest\n",
      "0.7486437613019892\n",
      "decision tree\n",
      "0.7522603978300181\n",
      "svm\n",
      "0.7179023508137432\n"
     ]
    }
   ],
   "source": [
    "\n",
    "import pandas as pd\n",
    "import numpy as np\n",
    "from sklearn.model_selection import train_test_split\n",
    "from sklearn.naive_bayes import GaussianNB\n",
    "from sklearn.ensemble import RandomForestClassifier\n",
    "dataset=pd.read_csv('Dataset.csv')\n",
    "from sklearn.tree import DecisionTreeClassifier\n",
    "from sklearn.svm import SVC\n",
    "#we have only selected some features only\n",
    "#for training\n",
    "#output\n",
    "y=dataset['Result']\n",
    "x=dataset[['having_IP_Address','URL_Length','having_At_Symbol','having_Sub_Domain','double_slash_redirecting','HTTPS_token','Domain_registeration_length','age_of_domain','DNSRecord']]\n",
    "x_train,x_test,y_train,y_test=train_test_split(x,y,random_state=20,test_size=0.10)\n",
    "clf1=GaussianNB()\n",
    "clf1.fit(x_train,y_train)\n",
    "\n",
    "clf2=RandomForestClassifier()\n",
    "clf2.fit(x_train,y_train)\n",
    "clf3=DecisionTreeClassifier()\n",
    "clf3.fit(x_train,y_train)\n",
    "clf4=SVC()\n",
    "clf4.fit(x_train,y_train)\n",
    "y_pred1=clf1.predict(x_test)\n",
    "y_pred2=clf2.predict(x_test)\n",
    "y_pred3=clf3.predict(x_test)\n",
    "y_pred4=clf4.predict(x_test)\n",
    "from sklearn.metrics import accuracy_score\n",
    "print(\"naive bayes\")\n",
    "print(accuracy_score(y_test,y_pred1))\n",
    "print(\"random forest\")\n",
    "print(accuracy_score(y_test,y_pred2))\n",
    "print(\"decision tree\")\n",
    "print(accuracy_score(y_test,y_pred3))\n",
    "print(\"svm\")\n",
    "print(accuracy_score(y_test,y_pred4))\n"
   ]
  },
  {
   "cell_type": "code",
   "execution_count": 106,
   "metadata": {},
   "outputs": [],
   "source": [
    "name=\"https://www.geeksforgeeks.org\"\n",
    "features=preprocess(name)"
   ]
  },
  {
   "cell_type": "code",
   "execution_count": 109,
   "metadata": {},
   "outputs": [
    {
     "name": "stdout",
     "output_type": "stream",
     "text": [
      "[[ 1  1  1  0  1  1 -1 -1 -1]]\n",
      "[[ 1  1  1  0  1  1 -1 -1 -1]]\n",
      "not phishing\n"
     ]
    }
   ],
   "source": [
    "print(features)\n",
    "features=np.array(features).reshape(1,-1)\n",
    "\n",
    "#print(clf1.predict(features)[0])\n",
    "#print(clf2.predict(features)[0])\n",
    "if(clf3.predict(features)[0]==-1):\n",
    "    print (\"phishing\")\n",
    "else:\n",
    "    print (\"not phishing\")"
   ]
  },
  {
   "cell_type": "code",
   "execution_count": 90,
   "metadata": {},
   "outputs": [
    {
     "data": {
      "text/plain": [
       "['model2.joblib']"
      ]
     },
     "execution_count": 90,
     "metadata": {},
     "output_type": "execute_result"
    }
   ],
   "source": [
    "from sklearn.externals import joblib\n",
    "joblib.dump(clf3, 'model2.joblib')"
   ]
  }
 ],
 "metadata": {
  "kernelspec": {
   "display_name": "Python 3",
   "language": "python",
   "name": "python3"
  },
  "language_info": {
   "codemirror_mode": {
    "name": "ipython",
    "version": 3
   },
   "file_extension": ".py",
   "mimetype": "text/x-python",
   "name": "python",
   "nbconvert_exporter": "python",
   "pygments_lexer": "ipython3",
   "version": "3.7.0"
  }
 },
 "nbformat": 4,
 "nbformat_minor": 2
}
