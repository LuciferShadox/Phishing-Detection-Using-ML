{
 "cells": [
  {
   "cell_type": "code",
   "execution_count": 89,
   "metadata": {},
   "outputs": [],
   "source": [
    "import re\n",
    "name=\"https://www.w3schools.com/python/showpython.asp?filename=demo_regex_set3\"\n",
    "features=[]"
   ]
  },
  {
   "cell_type": "code",
   "execution_count": 90,
   "metadata": {},
   "outputs": [],
   "source": [
    "#check features of phishing url or not\n",
    "#ip address or not\n",
    "if(len(re.findall(\"^[0-9]+\\.[0-9]+\\.[0-9]\",name))>=1):\n",
    "    features.append(-1)\n",
    "else:\n",
    "    features.append(1)"
   ]
  },
  {
   "cell_type": "code",
   "execution_count": 91,
   "metadata": {},
   "outputs": [],
   "source": [
    "#url length\n",
    "url_length=len(name)\n",
    "if(url_length<54):\n",
    "    features.append(1)\n",
    "elif(url_length>75):\n",
    "    features.append(-1)\n",
    "else:\n",
    "    features.append(0)\n",
    "    \n"
   ]
  },
  {
   "cell_type": "code",
   "execution_count": 92,
   "metadata": {},
   "outputs": [],
   "source": [
    "# @ present or not\n",
    "b=re.search(\"@\",name)\n",
    "if(b):\n",
    "    features.append(-1)\n",
    "else:\n",
    "    features.append(1)\n"
   ]
  },
  {
   "cell_type": "code",
   "execution_count": 93,
   "metadata": {},
   "outputs": [],
   "source": [
    "# check no. of subdomain\n",
    "if(len(re.findall('\\.',name))==1):\n",
    "    features.append(1)\n",
    "elif(len(re.findall('\\.',name))==2):\n",
    "    features.append(1)\n",
    "else:\n",
    "    features.append(1)\n"
   ]
  },
  {
   "cell_type": "code",
   "execution_count": 94,
   "metadata": {},
   "outputs": [],
   "source": [
    "# '//' present more than twice\n",
    "c=0\n",
    "b=name.split(\"/\")\n",
    "for j in b:\n",
    "    if (j==''):\n",
    "        c=c+1\n",
    "if(c>1):\n",
    "    features.append(-1)\n",
    "else:\n",
    "    features.append(1)"
   ]
  },
  {
   "cell_type": "code",
   "execution_count": 95,
   "metadata": {},
   "outputs": [],
   "source": [
    "# https present\n",
    "if(name.startswith('https')==True):\n",
    "    features.append(1)\n",
    "else :\n",
    "    features.append(-1)\n",
    "    "
   ]
  },
  {
   "cell_type": "code",
   "execution_count": 77,
   "metadata": {},
   "outputs": [],
   "source": [
    "# has '-' in domain name\n",
    "'''a=re.findall(r\"https?://[^\\-]+-[^\\-]+/\", name)\n",
    "if (len(a)>0):\n",
    "    features.append(-1)\n",
    "else:\n",
    "    features.append(1)\n",
    "    '''"
   ]
  },
  {
   "cell_type": "code",
   "execution_count": 96,
   "metadata": {
    "scrolled": true
   },
   "outputs": [
    {
     "data": {
      "text/plain": [
       "(8844, 6)"
      ]
     },
     "execution_count": 96,
     "metadata": {},
     "output_type": "execute_result"
    }
   ],
   "source": [
    "import pandas as pd\n",
    "import numpy as np\n",
    "from sklearn.model_selection import train_test_split\n",
    "from sklearn.naive_bayes import GaussianNB\n",
    "from sklearn.ensemble import RandomForestClassifier\n",
    "dataset=pd.read_csv('Dataset.csv')\n",
    "#we have only selected some features only\n",
    "#for training\n",
    "#output\n",
    "y=dataset['Result']\n",
    "x=dataset[['having_IP_Address','URL_Length','having_At_Symbol','having_Sub_Domain','double_slash_redirecting','HTTPS_token']]\n",
    "x_train,x_test,y_train,y_test=train_test_split(x,y,random_state=0,test_size=0.20)\n",
    "x_train.shape\n",
    "\n",
    "\n",
    "\n"
   ]
  },
  {
   "cell_type": "code",
   "execution_count": 97,
   "metadata": {},
   "outputs": [
    {
     "name": "stderr",
     "output_type": "stream",
     "text": [
      "C:\\ProgramData\\Anaconda3\\lib\\site-packages\\sklearn\\ensemble\\forest.py:246: FutureWarning: The default value of n_estimators will change from 10 in version 0.20 to 100 in 0.22.\n",
      "  \"10 in version 0.20 to 100 in 0.22.\", FutureWarning)\n"
     ]
    },
    {
     "data": {
      "text/plain": [
       "RandomForestClassifier(bootstrap=True, class_weight=None, criterion='gini',\n",
       "            max_depth=None, max_features='auto', max_leaf_nodes=None,\n",
       "            min_impurity_decrease=0.0, min_impurity_split=None,\n",
       "            min_samples_leaf=1, min_samples_split=2,\n",
       "            min_weight_fraction_leaf=0.0, n_estimators=10, n_jobs=None,\n",
       "            oob_score=False, random_state=None, verbose=0,\n",
       "            warm_start=False)"
      ]
     },
     "execution_count": 97,
     "metadata": {},
     "output_type": "execute_result"
    }
   ],
   "source": [
    "clf1=GaussianNB()\n",
    "clf1.fit(x_train,y_train)\n",
    "\n",
    "clf2=RandomForestClassifier()\n",
    "clf2.fit(x_train,y_train)"
   ]
  },
  {
   "cell_type": "code",
   "execution_count": 98,
   "metadata": {},
   "outputs": [],
   "source": [
    "y_pred1=clf1.predict(x_test)\n",
    "y_pred2=clf2.predict(x_test)\n"
   ]
  },
  {
   "cell_type": "code",
   "execution_count": 101,
   "metadata": {},
   "outputs": [
    {
     "name": "stdout",
     "output_type": "stream",
     "text": [
      "0.6476707372229761\n",
      "0.6906377204884667\n",
      "[1 0 1 1 1 1]\n",
      "[1]\n",
      "[1]\n"
     ]
    }
   ],
   "source": [
    "from sklearn.metrics import accuracy_score\n",
    "print(accuracy_score(y_test,y_pred1))\n",
    "print(accuracy_score(y_test,y_pred2))\n",
    "print(features)\n",
    "features=np.array(features).reshape(1,-1)\n",
    "print(clf1.predict(features))\n",
    "print(clf2.predict(features))\n"
   ]
  },
  {
   "cell_type": "code",
   "execution_count": null,
   "metadata": {},
   "outputs": [],
   "source": []
  }
 ],
 "metadata": {
  "kernelspec": {
   "display_name": "Python 3",
   "language": "python",
   "name": "python3"
  },
  "language_info": {
   "codemirror_mode": {
    "name": "ipython",
    "version": 3
   },
   "file_extension": ".py",
   "mimetype": "text/x-python",
   "name": "python",
   "nbconvert_exporter": "python",
   "pygments_lexer": "ipython3",
   "version": "3.7.1"
  }
 },
 "nbformat": 4,
 "nbformat_minor": 2
}
